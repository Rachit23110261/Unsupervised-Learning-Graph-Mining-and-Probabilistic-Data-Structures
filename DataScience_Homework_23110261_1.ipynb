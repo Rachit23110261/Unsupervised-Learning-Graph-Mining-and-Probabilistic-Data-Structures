{
  "nbformat": 4,
  "nbformat_minor": 0,
  "metadata": {
    "colab": {
      "provenance": [],
      "authorship_tag": "ABX9TyMPHjyU24th6Z7YhgoVtPXE",
      "include_colab_link": true
    },
    "kernelspec": {
      "name": "python3",
      "display_name": "Python 3"
    },
    "language_info": {
      "name": "python"
    }
  },
  "cells": [
    {
      "cell_type": "markdown",
      "metadata": {
        "id": "view-in-github",
        "colab_type": "text"
      },
      "source": [
        "<a href=\"https://colab.research.google.com/github/Rachit23110261/Unsupervised-Learning-Graph-Mining-and-Probabilistic-Data-Structures/blob/main/DataScience_Homework_23110261_1.ipynb\" target=\"_parent\"><img src=\"https://colab.research.google.com/assets/colab-badge.svg\" alt=\"Open In Colab\"/></a>"
      ]
    },
    {
      "cell_type": "markdown",
      "source": [
        "**Assignment 1**\n",
        "\n",
        "Name: Rachit Mehta (23110261)\n",
        "\n",
        "Collaborators:\n",
        "\n",
        "Kaushal Bule (23110160)\n",
        "\n",
        "Akash KP (23110021)\n",
        "\n",
        "Rajput Vivek (23110269)\n",
        "\n",
        "Prateek Takshak (23110256)\n",
        "\n",
        "\n"
      ],
      "metadata": {
        "id": "lO7LWm8msN9h"
      }
    },
    {
      "cell_type": "markdown",
      "source": [
        "Quesstion 1\n",
        "\n",
        "We have to minimize following objective:\n",
        "\n",
        "$$\n",
        "\\text{cost}(C) = \\sum_{i=1}^{k} \\frac{1}{|C_i|} \\sum_{x, y \\in C_i} \\|x - y\\|^2\n",
        "$$\n",
        "\n",
        "Where:\n",
        "- $(C = \\{C_1, C_2, \\dots, C_k\\})$ is a list containig $Ci$ as ith cluster.\n",
        "- $( |C_i|)$ represents the number of data points in cluster $ C_i$.\n",
        "- $( \\|x - y\\|^2 )$ is the square of Euclidean distance between points $ x $ and $y$ which belong to the cluster $Ci$\n",
        "\n",
        "Our aim is to minimize this cost function by optimally making K clusters from the dataset.\n",
        "\n",
        "$\\text{cost}(C) = \\sum_{i=1}^{k} \\frac{1}{|C_i|} \\sum_{x, y \\in C_i} \\|x - y\\|^2$\n",
        "\n",
        "We will show that this objective function is equal to **twice** the k-means objective:\n",
        "\n",
        "$\\sum_{i=1}^{k} \\sum_{x \\in C_i} \\|x - c_i\\|^2$\n",
        "\n",
        "where $c_i$ is the centroid of cluster $C_i$.  \n",
        "\n",
        "Using the squared Euclidean distance identity:\n",
        "\n",
        "$\\|x - y\\|^2 = \\|x\\|^2 + \\|y\\|^2 - 2 \\langle x, y \\rangle$\n",
        "\n",
        "Summing over all pairs $(x, y)$ within each cluster:\n",
        "\n",
        "$\\sum_{x, y \\in C_i} \\|x - y\\|^2 = \\sum_{x, y \\in C_i} (\\|x\\|^2 + \\|y\\|^2 - 2 \\langle x, y \\rangle).$\n",
        "\n",
        "Since summation is symmetric:\n",
        "\n",
        "$\\sum_{x, y \\in C_i} \\|x - y\\|^2 = 2 |C_i| \\sum_{x \\in C_i} \\|x\\|^2 - 2 \\sum_{x, y \\in C_i} \\langle x, y \\rangle.$\n",
        "\n",
        "$\\sum_{x, y \\in C_i} \\|x - y\\|^2 = 2 |C_i| \\sum_{x \\in C_i} \\|x\\|^2 - 2 \\sum_{x \\in C_i} \\sum_{y \\in C_i} \\langle x, y \\rangle.$\n",
        "\n",
        "$\\sum_{x, y \\in C_i} \\|x - y\\|^2 = 2 |C_i| \\sum_{x \\in C_i} \\|x\\|^2 - 2 \\sum_{x \\in C_i}  \\langle x, \\sum_{y \\in C_i} y \\rangle.$\n",
        "\n",
        "$\\sum_{x, y \\in C_i} \\|x - y\\|^2 = 2 |C_i| \\sum_{x \\in C_i} \\|x\\|^2 - 2 \\sum_{x \\in C_i}  \\langle x, |C_i| c_i \\rangle.$\n",
        "\n",
        "$\\sum_{x, y \\in C_i} \\|x - y\\|^2 = 2 |C_i| \\sum_{x \\in C_i} \\|x\\|^2 - 2 |C_i|  \\langle \\sum_{x \\in C_i}x,  c_i \\rangle.$\n",
        "\n",
        "$\\sum_{x, y \\in C_i} \\|x - y\\|^2 = 2 |C_i| \\sum_{x \\in C_i} \\|x\\|^2 - 2 |C_i|^2 \\|c_i\\|^2$\n",
        "\n",
        "\n",
        "\n",
        "Let's call this identity 1 and we will use it later.\n",
        "\n",
        "The centroid is:\n",
        "\n",
        "$c_i = \\frac{1}{|C_i|} \\sum_{x \\in C_i} x.$\n",
        "\n",
        "The k-means objective is:\n",
        "\n",
        "$\\sum_{x \\in C_i} \\|x - c_i\\|^2 = \\sum_{x \\in C_i} \\|x\\|^2 - 2 \\sum_{x \\in C_i} \\langle x, c_i \\rangle + |C_i| \\|c_i\\|^2.$\n",
        "\n",
        "Since:\n",
        "\n",
        "$\\sum_{x \\in C_i} \\langle x, c_i \\rangle = |C_i| \\langle c_i, c_i \\rangle = |C_i| \\|c_i\\|^2$\n",
        "\n",
        "we get:\n",
        "\n",
        "$\\sum_{x \\in C_i} \\|x - c_i\\|^2 = \\sum_{x \\in C_i} \\|x\\|^2 - |C_i| \\|c_i\\|^2.$\n",
        "\n",
        "Using the identity 1:\n",
        "\n",
        "$\\sum_{x, y \\in C_i} \\|x - y\\|^2 = 2 |C_i| \\sum_{x \\in C_i} \\|x - c_i\\|^2.$\n",
        "\n",
        "Dividing by $|C_i|$:\n",
        "\n",
        "$\\frac{1}{|C_i|} \\sum_{x, y \\in C_i} \\|x - y\\|^2 = 2 \\sum_{x \\in C_i} \\|x - c_i\\|^2.$\n",
        "\n",
        "Summing over all clusters:\n",
        "\n",
        "$\\sum_{i=1}^{k} \\frac{1}{|C_i|} \\sum_{x, y \\in C_i} \\|x - y\\|^2 = 2 \\sum_{i=1}^{k} \\sum_{x \\in C_i} \\|x - c_i\\|^2.$\n",
        "\n",
        "Thus, the given cost function is exactly **twice** the standard k-means objective:\n",
        "\n",
        "$\\sum_{i=1}^{k} \\sum_{x \\in C_i} \\|x - c_i\\|^2.$\n",
        "\n",
        "The factor of **2** appears because the given cost function sums over **all** pairwise distances within each cluster, whereas k-means only considers the squared distance to the centroid.\n",
        "\n",
        "\n",
        "So, we should use lloyd's algorithm for this.\n",
        "\n",
        "\n",
        "1. **Initialization**:\n",
        "   \n",
        "   Randomly initialize $k$ cluster centroids ($c_1$, $c_2$, $\\dots$, $c_k$). These centroids can be chosen randomly from all the data points.\n",
        "\n",
        "2. **Cluster Assignment**:\n",
        "   loop over each data point $x$, put it in the the closest centroid $c_i $\n",
        "\n",
        "   $$\n",
        "   C_i = \\{x \\mid \\|x - c_i\\|^2 \\leq \\|x - c_j\\|^2, \\forall j \\neq i \\}\n",
        "   $$\n",
        "\n",
        "   This divides the data points into K clusters based on the centroids defined.\n",
        "\n",
        "3. **Update centroid after each step**:\n",
        "   Update the centroids to the mean of the points within each cluster:\n",
        "   $$\n",
        "   c_i = \\frac{1}{|C_i|} \\sum_{x \\in C_i} x\n",
        "   $$\n",
        "   The reason for updating the centroids to the mean of the points within each cluster is that it minimizes the sum of squared distances between points and their cluster center. Formally, given a cluster $C_i$, the objective is to minimize the within-cluster sum of squared distances (WCSS):\n",
        "\n",
        "  $$\n",
        "  \\sum_{x \\in C_i} \\|x - c_i\\|^2\n",
        "  $$\n",
        "\n",
        "  Taking the derivative with respect to \\( c_i \\) and setting it to zero:\n",
        "\n",
        "  $$\n",
        "  \\frac{d}{d c_i} \\sum_{x \\in C_i} \\|x - c_i\\|^2 = \\sum_{x \\in C_i} 2 (c_i - x) = 0\n",
        "  $$\n",
        "\n",
        "  Solving for $c_i$:\n",
        "\n",
        "  $$\n",
        "  c_i = \\frac{1}{|C_i|} \\sum_{x \\in C_i} x\n",
        "  $$\n",
        "\n",
        "  This shows that the mean minimizes the sum of squared distances, justifying the update rule.\n",
        "\n",
        "\n",
        "4. **Repeat**:\n",
        "   Decide number of max iterations or a threshold for cost\n",
        "   Repeat the **Assignment** and **Update** steps until max iterations or threshold is reached.\n",
        "\n"
      ],
      "metadata": {
        "id": "rSZbvcJt7_Qx"
      }
    },
    {
      "cell_type": "markdown",
      "source": [
        "###Question 2\n",
        "\n",
        "**To PROVE :**\n",
        "\n",
        "The optimal value for the k-means problem when cluster centers are required to be data points is at most four times the optimal value when arbitrary points are allowed as centers.\n",
        "\n",
        "**PROOF :**\n",
        "\n",
        "Let $ \\text{OPT}_{\\text{arbitrary}} $ be the optimal k-means cost when centers can be any points irrespective of the centers. Let $ C = \\{c_1, c_2, \\ldots, c_k\\} $ be the optimal centers, and let $ S_1, S_2, \\ldots, S_k $ be the corresponding clusters.  \n",
        "\n",
        "Now,Let $ \\text{OPT}_{\\text{centers}} $ be the optimal k-means cost when centers can be only centers. So, Instead of using arbitrary centers, we choose new centers from the given data points. For each cluster $ S_i $, pick a data point $ x_i $ that is closest to $ c_i $. That is:  \n",
        "\n",
        "$\n",
        "x_i = \\arg \\min_{x \\in S_i} \\|x - c_i\\|\n",
        "$\n",
        "\n",
        "This ensures that the new center $ x_i $ is the closest available data point to the optimal center $ c_i $, which helps in bounding the new k-means cost.  \n",
        "\n",
        "For any data point $ x $ originally assigned to cluster $ S_i $, we use the triangle inequality:  \n",
        "\n",
        "$\n",
        "\\|x - x_i\\| \\leq \\|x - c_i\\| + \\|c_i - x_i\\|\n",
        "$\n",
        "\n",
        "Squaring both sides and applying the inequality $ (a + b)^2 \\leq 2a^2 + 2b^2 $, we get:  \n",
        "\n",
        "$\n",
        "\\|x - x_i\\|^2 \\leq 2\\|x - c_i\\|^2 + 2\\|c_i - x_i\\|^2\n",
        "$\n",
        "\n",
        "Summing this over all points in all clusters, the total cost with the new centers $ x_i $ is:  \n",
        "\n",
        "$\n",
        "\\sum_{i=1}^k \\sum_{x \\in S_i} \\|x - x_i\\|^2 \\leq \\sum_{i=1}^k \\sum_{x \\in S_i} \\left( 2\\|x - c_i\\|^2 + 2\\|c_i - x_i\\|^2 \\right)\n",
        "$\n",
        "\n",
        "This can be rewritten as:  \n",
        "\n",
        "$\n",
        "\\sum_{i=1}^k \\sum_{x \\in S_i} \\|x - x_i\\|^2 \\leq 2 \\sum_{i=1}^k \\sum_{x \\in S_i} \\|x - c_i\\|^2 + 2 \\sum_{i=1}^k \\sum_{x \\in S_i} \\|c_i - x_i\\|^2\n",
        "$\n",
        "\n",
        "### Bounding the Two Terms:\n",
        "\n",
        "1. **First Sum:**  \n",
        "   By definition, the first sum is exactly twice the optimal cost with arbitrary centers:  \n",
        "\n",
        "   $\n",
        "   2 \\sum_{i=1}^k \\sum_{x \\in S_i} \\|x - c_i\\|^2 = 2 \\text{OPT}_{\\text{arbitrary}}\n",
        "   $\n",
        "\n",
        "2. **Second Sum:**  \n",
        "   Since $ x_i $ is chosen as the closest data point to $ c_i $, we have:  \n",
        "\n",
        "   $\n",
        "   \\|c_i - x_i\\|^2 \\leq \\|c_i - x\\|^2, \\quad \\forall x \\in S_i\n",
        "   $\n",
        "\n",
        "   Summing over all points in $ S_i $:  \n",
        "\n",
        "   $\n",
        "   \\sum_{x \\in S_i} \\|c_i - x_i\\|^2 \\leq \\sum_{x \\in S_i} \\|c_i - x\\|^2\n",
        "   $\n",
        "\n",
        "   Summing over all clusters:  \n",
        "\n",
        "   $\n",
        "   \\sum_{i=1}^k \\sum_{x \\in S_i} \\|c_i - x_i\\|^2 \\leq \\sum_{i=1}^k \\sum_{x \\in S_i} \\|x - c_i\\|^2 = \\text{OPT}_{\\text{arbitrary}}\n",
        "   $\n",
        "\n",
        "   So, multiplying by 2:  \n",
        "\n",
        "   $\n",
        "   2 \\sum_{i=1}^k \\sum_{x \\in S_i} \\|c_i - x_i\\|^2 \\leq 2 \\text{OPT}_{\\text{arbitrary}}\n",
        "   $\n",
        "\n",
        "\n",
        "\n",
        "### Final Bound:\n",
        "\n",
        "Adding both terms together:  \n",
        "\n",
        "$\n",
        "2 \\text{OPT}_{\\text{arbitrary}} + 2 \\text{OPT}_{\\text{arbitrary}} = 4 \\text{OPT}_{\\text{arbitrary}}\n",
        "$\n",
        "\n",
        "Since the optimal cost when centers are restricted to data points, $ \\text{OPT}_{\\text{data}} $, must be at most this bound, we conclude:  \n",
        "\n",
        "$\n",
        "\\text{OPT}_{\\text{data}} \\leq 4 \\text{OPT}_{\\text{arbitrary}}\n",
        "$\n",
        "\n",
        "Thus, the worst-case cost of restricting centers to data points is at most four times the cost of allowing arbitrary centers.\n"
      ],
      "metadata": {
        "id": "fom9jaUOBdh2"
      }
    },
    {
      "cell_type": "markdown",
      "source": [
        "##**Question 3**\n",
        "\n",
        "To construct a random variable $ X $ for which Markov’s inequality is tight and justify why we use other inequalities like Chebyshev and Chernoff.  \n",
        "\n",
        "### **Markov’s Inequality:**  \n",
        "For any non-negative random variable $ X $ and any $ a > 0 $, Markov’s inequality states that:  \n",
        "\n",
        "$\n",
        "P(X \\geq a) \\leq \\frac{E[X]}{a}\n",
        "$\n",
        "\n",
        "Also, Markov’s inequality is not useful when  $a \\geq {E[X]}$.\n",
        "\n",
        "We want a random variable $X$ for which this bound is tight, which should occur when the inequality holds as an equality.  \n",
        "\n",
        "### **Constructing a Tight Example:**  \n",
        "\n",
        "Consider a random variable $ X $ that takes two values:\n",
        "\n",
        "- $ X = 0 $ with probability $ 1 - p $\n",
        "- $ X = \\frac{E[X]}{p} $ with probability $ p $  \n",
        "\n",
        "where $ p \\in (0,1] $.  \n",
        "\n",
        "\n",
        "The expectation of $ X $ is:  \n",
        "\n",
        "$\n",
        "E[X] = 0 \\cdot (1 - p) + \\left(\\frac{E[X]}{p}\\right) \\cdot p = E[X]\n",
        "$\n",
        "\n",
        "which is consistent.  \n",
        "\n",
        "\n",
        "For any $ a > 0 $, we have:  \n",
        "\n",
        "$\n",
        "P(X \\geq a) =\n",
        "\\begin{cases}\n",
        "0, & \\text{if } a > \\frac{E[X]}{p} \\\\  \n",
        "p, & \\text{if } a \\leq \\frac{E[X]}{p}  \n",
        "\\end{cases}\n",
        "$\n",
        "\n",
        "Applying Markov’s inequality:  \n",
        "\n",
        "$\n",
        "P(X \\geq a) \\leq \\frac{E[X]}{a}\n",
        "$\n",
        "\n",
        "If we set $ a = \\frac{E[X]}{p} $, we get:  \n",
        "\n",
        "$\n",
        "P(X \\geq a) = p\n",
        "$\n",
        "\n",
        "while Markov’s bound gives:  \n",
        "\n",
        "$\n",
        "\\frac{E[X]}{a} = \\frac{E[X]}{\\frac{E[X]}{p}} = p\n",
        "$\n",
        "\n",
        "Thus, we have equality:  \n",
        "\n",
        "$\n",
        "P(X \\geq a) = \\frac{E[X]}{a}\n",
        "$\n",
        "\n",
        "this shows that Markov’s inequality is tight for this choice of $ X $.  \n",
        "\n",
        "### **Why Do We Use Other Inequalities?**  \n",
        "\n",
        "Even though Markov’s inequality is simple, it can be very loose in most practical cases because it only relies on the expectations of $ X $. In many scenarios, a **tighter bound** can be obtained using additional information like variance or exponential functions:  \n",
        "\n",
        "- **Chebyshev’s Inequality:** Uses both the expectation and variance of $ X $, giving a stronger bound:  \n",
        "\n",
        "  $\n",
        "  P(|X - E[X]| \\geq a) \\leq \\frac{Var[X]}{a^2}\n",
        "  $\n",
        "\n",
        "  This inequality is much more tighter if the variance is low.  \n",
        "\n",
        "- **Chernoff Bound:**\n",
        "Unlike Markov’s bound, which only uses expectation, Chernoff bounds use exponential functions, leading to much stronger decay in probability.\n",
        "Compared to Chebyshev’s bound (which decreases as\n",
        "$\\frac{1}{a^2}$\n",
        " ), Chernoff’s bound decreases exponentially fast, making it ideal for applications where rare events should have very low probability.\n",
        "Best for Independent, Light-Tailed Distributions\n",
        "\n",
        "\n"
      ],
      "metadata": {
        "id": "iWoVN6Q-XMBI"
      }
    },
    {
      "cell_type": "code",
      "source": [],
      "metadata": {
        "id": "qwzQlHpXXLdB"
      },
      "execution_count": null,
      "outputs": []
    },
    {
      "cell_type": "code",
      "source": [
        "import torch\n",
        "import torchvision\n",
        "import matplotlib.pyplot as plt\n",
        "import numpy as np\n",
        "testset = torchvision.datasets.MNIST(root=\"./data\", train=False, download=True)\n",
        "testloader = torch.utils.data.DataLoader(testset, batch_size=64, shuffle=False)\n",
        "X_test = np.array(testset.data, dtype=np.uint8)  # Convert to NumPy array\n",
        "y_test = np.array(testset.targets, dtype=np.uint8)\n",
        "print(f\"Number of test samples: {len(testset)}\")\n",
        "print(f\"Number of xtest samples: {len(X_test)}\")\n",
        "print(f\"Number of ytest samples: {len(y_test)}\")\n"
      ],
      "metadata": {
        "id": "-J2J23rkpCzj",
        "colab": {
          "base_uri": "https://localhost:8080/"
        },
        "outputId": "3e58f9b7-0f28-4bd5-aa68-b6ac638bfd0f"
      },
      "execution_count": null,
      "outputs": [
        {
          "output_type": "stream",
          "name": "stdout",
          "text": [
            "Downloading http://yann.lecun.com/exdb/mnist/train-images-idx3-ubyte.gz\n",
            "Failed to download (trying next):\n",
            "HTTP Error 404: Not Found\n",
            "\n",
            "Downloading https://ossci-datasets.s3.amazonaws.com/mnist/train-images-idx3-ubyte.gz\n",
            "Downloading https://ossci-datasets.s3.amazonaws.com/mnist/train-images-idx3-ubyte.gz to ./data/MNIST/raw/train-images-idx3-ubyte.gz\n"
          ]
        },
        {
          "output_type": "stream",
          "name": "stderr",
          "text": [
            "100%|██████████| 9.91M/9.91M [00:00<00:00, 14.9MB/s]\n"
          ]
        },
        {
          "output_type": "stream",
          "name": "stdout",
          "text": [
            "Extracting ./data/MNIST/raw/train-images-idx3-ubyte.gz to ./data/MNIST/raw\n",
            "\n",
            "Downloading http://yann.lecun.com/exdb/mnist/train-labels-idx1-ubyte.gz\n",
            "Failed to download (trying next):\n",
            "HTTP Error 404: Not Found\n",
            "\n",
            "Downloading https://ossci-datasets.s3.amazonaws.com/mnist/train-labels-idx1-ubyte.gz\n",
            "Downloading https://ossci-datasets.s3.amazonaws.com/mnist/train-labels-idx1-ubyte.gz to ./data/MNIST/raw/train-labels-idx1-ubyte.gz\n"
          ]
        },
        {
          "output_type": "stream",
          "name": "stderr",
          "text": [
            "100%|██████████| 28.9k/28.9k [00:00<00:00, 513kB/s]\n"
          ]
        },
        {
          "output_type": "stream",
          "name": "stdout",
          "text": [
            "Extracting ./data/MNIST/raw/train-labels-idx1-ubyte.gz to ./data/MNIST/raw\n",
            "\n",
            "Downloading http://yann.lecun.com/exdb/mnist/t10k-images-idx3-ubyte.gz\n",
            "Failed to download (trying next):\n",
            "HTTP Error 404: Not Found\n",
            "\n",
            "Downloading https://ossci-datasets.s3.amazonaws.com/mnist/t10k-images-idx3-ubyte.gz\n",
            "Downloading https://ossci-datasets.s3.amazonaws.com/mnist/t10k-images-idx3-ubyte.gz to ./data/MNIST/raw/t10k-images-idx3-ubyte.gz\n"
          ]
        },
        {
          "output_type": "stream",
          "name": "stderr",
          "text": [
            "100%|██████████| 1.65M/1.65M [00:00<00:00, 4.55MB/s]\n"
          ]
        },
        {
          "output_type": "stream",
          "name": "stdout",
          "text": [
            "Extracting ./data/MNIST/raw/t10k-images-idx3-ubyte.gz to ./data/MNIST/raw\n",
            "\n",
            "Downloading http://yann.lecun.com/exdb/mnist/t10k-labels-idx1-ubyte.gz\n",
            "Failed to download (trying next):\n",
            "HTTP Error 404: Not Found\n",
            "\n",
            "Downloading https://ossci-datasets.s3.amazonaws.com/mnist/t10k-labels-idx1-ubyte.gz\n",
            "Downloading https://ossci-datasets.s3.amazonaws.com/mnist/t10k-labels-idx1-ubyte.gz to ./data/MNIST/raw/t10k-labels-idx1-ubyte.gz\n"
          ]
        },
        {
          "output_type": "stream",
          "name": "stderr",
          "text": [
            "100%|██████████| 4.54k/4.54k [00:00<00:00, 8.43MB/s]"
          ]
        },
        {
          "output_type": "stream",
          "name": "stdout",
          "text": [
            "Extracting ./data/MNIST/raw/t10k-labels-idx1-ubyte.gz to ./data/MNIST/raw\n",
            "\n",
            "Number of test samples: 10000\n",
            "Number of xtest samples: 10000\n",
            "Number of ytest samples: 10000\n"
          ]
        },
        {
          "output_type": "stream",
          "name": "stderr",
          "text": [
            "\n"
          ]
        }
      ]
    },
    {
      "cell_type": "code",
      "source": [
        "def kmeans_init(X, y, k):\n",
        "    n_samples = X.shape[0]\n",
        "    centers = []\n",
        "    center_labels = []\n",
        "\n",
        "    idx = np.random.randint(n_samples)\n",
        "    centers.append(X[idx])\n",
        "    center_labels.append(y[idx])\n",
        "\n",
        "    while len(centers) < k:\n",
        "        distances = np.array([np.min([np.linalg.norm(x - c)**2 for c in centers]) for x in X])\n",
        "\n",
        "        probabilities = distances / np.sum(distances)\n",
        "\n",
        "        new_idx = np.random.choice(n_samples, p=probabilities)\n",
        "        centers.append(X[new_idx])\n",
        "        center_labels.append(y[new_idx])\n",
        "\n",
        "    return np.array(centers), center_labels\n",
        "\n",
        "centers, center_labels = kmeans_init(X_test, y_test, 10)\n",
        "\n",
        "fig, axes = plt.subplots(1, 10, figsize=(12, 2))\n",
        "for i in range(10):\n",
        "    axes[i].imshow(centers[i], cmap=\"gray\")\n",
        "    axes[i].set_title(f\"Label: {center_labels[i]}\")\n",
        "    axes[i].axis(\"off\")\n",
        "\n",
        "plt.show()"
      ],
      "metadata": {
        "colab": {
          "base_uri": "https://localhost:8080/",
          "height": 138
        },
        "id": "hqd-Rbx2_rLv",
        "outputId": "7f3086a3-8ca7-4907-eb21-72d8f26233c6"
      },
      "execution_count": null,
      "outputs": [
        {
          "output_type": "display_data",
          "data": {
            "text/plain": [
              "<Figure size 1200x200 with 10 Axes>"
            ],
            "image/png": "[encoded data removed]"
          },
          "metadata": {}
        }
      ]
    },
    {
      "cell_type": "code",
      "source": [
        "import numpy as np\n",
        "import torch\n",
        "import torchvision\n",
        "import matplotlib.pyplot as plt\n",
        "from collections import Counter\n",
        "\n",
        "def Kmeans(centers, center_labels, X, y):\n",
        "    k = len(centers)\n",
        "    center_elements = [[] for _ in range(k)]\n",
        "    center_labels_elements = [[] for _ in range(k)]\n",
        "    cluster_assignments = np.zeros(len(X), dtype=int)\n",
        "\n",
        "    while True:\n",
        "        center_elements = [[] for _ in range(k)]\n",
        "        center_labels_elements = [[] for _ in range(k)]\n",
        "\n",
        "        for i, x in enumerate(X):\n",
        "            distances = np.array([np.linalg.norm(x - c) for c in centers])\n",
        "            center_index = np.argmin(distances)\n",
        "            center_elements[center_index].append(x)\n",
        "            center_labels_elements[center_index].append(y[i])\n",
        "            cluster_assignments[i] = center_index\n",
        "\n",
        "        new_centers = [np.mean(cluster, axis=0) if len(cluster) > 0 else centers[i]\n",
        "                       for i, cluster in enumerate(center_elements)]\n",
        "\n",
        "        new_center_labels = []\n",
        "        for labels in center_labels_elements:\n",
        "            if labels:\n",
        "                most_common_label = Counter(labels).most_common(1)[0][0]\n",
        "            else:\n",
        "                most_common_label = center_labels[len(new_center_labels)]\n",
        "            new_center_labels.append(most_common_label)\n",
        "\n",
        "        if np.array_equal(centers, new_centers):\n",
        "            break\n",
        "\n",
        "        centers = new_centers\n",
        "        center_labels = new_center_labels\n",
        "\n",
        "    return np.array(centers), center_labels, cluster_assignments\n",
        "\n",
        "\n",
        "\n",
        "final_centers, final_labels,cluster_assignments = Kmeans(centers, center_labels, X_test, y_test)\n",
        "cluster_assignments=[center_labels[i] for i in cluster_assignments]\n",
        "\n",
        "fig, axes = plt.subplots(1, 10, figsize=(12, 2))\n",
        "for i in range(10):\n",
        "    axes[i].imshow(final_centers[i], cmap=\"gray\")\n",
        "    axes[i].set_title(f\"Label: {final_labels[i]}\")\n",
        "    axes[i].axis(\"off\")\n",
        "\n",
        "plt.show()\n"
      ],
      "metadata": {
        "colab": {
          "base_uri": "https://localhost:8080/",
          "height": 138
        },
        "id": "oZ-E9SmtKTLt",
        "outputId": "62ce4d5b-c0a3-420c-bbec-6ef8d9b4c099"
      },
      "execution_count": null,
      "outputs": [
        {
          "output_type": "display_data",
          "data": {
            "text/plain": [
              "<Figure size 1200x200 with 10 Axes>"
            ],
            "image/png": "[encoded data removed]"
          },
          "metadata": {}
        }
      ]
    },
    {
      "cell_type": "code",
      "source": [
        "from sklearn.metrics import rand_score\n",
        "rand_index = rand_score(y_test, cluster_assignments)\n",
        "print(f\"Rand Index: {rand_index:.4f}\")"
      ],
      "metadata": {
        "colab": {
          "base_uri": "https://localhost:8080/"
        },
        "id": "LqvZYZ9VzeXG",
        "outputId": "40dc2a24-577b-4c97-d27c-7bcc4c74c5a0"
      },
      "execution_count": null,
      "outputs": [
        {
          "output_type": "stream",
          "name": "stdout",
          "text": [
            "Rand Index: 0.7862\n"
          ]
        }
      ]
    },
    {
      "cell_type": "code",
      "source": [],
      "metadata": {
        "id": "bHkUOoqV0OhH"
      },
      "execution_count": null,
      "outputs": []
    },
    {
      "cell_type": "code",
      "source": [
        "from collections import Counter\n",
        "from sklearn.manifold import TSNE\n",
        "\n",
        "def two_approx_k_center(X,y, k):\n",
        "    n_samples = X.shape[0]\n",
        "    centers = []\n",
        "    center_labels = []\n",
        "\n",
        "    idx = np.random.randint(n_samples)\n",
        "    centers.append(X[idx])\n",
        "    center_labels.append(y[idx])\n",
        "\n",
        "    while len(centers) < k:\n",
        "        distances = np.array([np.min([np.linalg.norm(x - c) for c in centers]) for x in X])\n",
        "        idx=np.argmax(distances)\n",
        "        new_center = X[idx]\n",
        "        new_label= y[idx]\n",
        "        centers.append(new_center)\n",
        "        center_labels.append(new_label)\n",
        "\n",
        "    return np.array(centers)\n",
        "\n",
        "def assign_clusters(X,y, centers):\n",
        "    cluster_assignments = np.zeros(len(X), dtype=int)\n",
        "    for i, x in enumerate(X):\n",
        "        distances = np.array([np.linalg.norm(x - c) for c in centers])\n",
        "        cluster_assignments[i] = center_labels[np.argmin(distances)]\n",
        "    return cluster_assignments\n",
        "\n",
        "final_centers = two_approx_k_center(X_test,y_test, k=10)\n",
        "cluster_assignments = assign_clusters(X_test,y_test, final_centers)\n",
        "\n"
      ],
      "metadata": {
        "id": "SbccarZd1AHI"
      },
      "execution_count": null,
      "outputs": []
    },
    {
      "cell_type": "code",
      "source": [
        "rand_index = rand_score(y_test, cluster_assignments)\n",
        "print(f\"Rand Index: {rand_index:.4f}\")"
      ],
      "metadata": {
        "colab": {
          "base_uri": "https://localhost:8080/"
        },
        "id": "0jscOAPk810o",
        "outputId": "e6862fdb-72f1-4156-a7f7-9d8dbe50816f"
      },
      "execution_count": null,
      "outputs": [
        {
          "output_type": "stream",
          "name": "stdout",
          "text": [
            "Rand Index: 0.4074\n"
          ]
        }
      ]
    },
    {
      "cell_type": "code",
      "source": [],
      "metadata": {
        "id": "eGQfrPLg83XY"
      },
      "execution_count": null,
      "outputs": []
    },
    {
      "cell_type": "code",
      "source": [
        "import numpy as np\n",
        "\n",
        "def cluster_distance(cluster1, cluster2, data):\n",
        "    return np.min([np.linalg.norm(data[i] - data[j]) for i in cluster1 for j in cluster2])\n",
        "\n",
        "def single_linkage_clustering(data, k):\n",
        "    n = len(data)\n",
        "    clusters = [{i} for i in range(n)]\n",
        "\n",
        "    while len(clusters) > k:\n",
        "        min_dist = float('inf')\n",
        "        merge_a, merge_b = -1, -1\n",
        "\n",
        "        for i in range(len(clusters)):\n",
        "            for j in range(i + 1, len(clusters)):\n",
        "                dist = cluster_distance(clusters[i], clusters[j], data)\n",
        "                if dist < min_dist:\n",
        "                    min_dist = dist\n",
        "                    merge_a, merge_b = i, j\n",
        "\n",
        "        clusters[merge_a] |= clusters[merge_b]\n",
        "        del clusters[merge_b]\n",
        "\n",
        "    cluster_assignments = [0] * n\n",
        "    for i, cluster in enumerate(clusters):\n",
        "        for index in cluster:\n",
        "            cluster_assignments[index] = i\n",
        "\n",
        "    return cluster_assignments,clusters\n",
        "\n",
        "X_test_small = X_test[:100]\n",
        "num_samples, height, width = X_test_small.shape\n",
        "X_flattened = X_test_small.reshape(num_samples, height * width)\n",
        "single_linkage_clusters,clusters = single_linkage_clustering(X_flattened, k=10)\n",
        "rand_index = rand_score(y_test[:100], single_linkage_clusters)\n",
        "print(f\"Rand Index: {rand_index:.4f}\")\n"
      ],
      "metadata": {
        "id": "PDopm9H88_t2",
        "colab": {
          "base_uri": "https://localhost:8080/"
        },
        "outputId": "23af40f2-9011-45b4-f4a3-0a8ff7bf39a6"
      },
      "execution_count": null,
      "outputs": [
        {
          "output_type": "stream",
          "name": "stdout",
          "text": [
            "Rand Index: 0.2507\n"
          ]
        }
      ]
    },
    {
      "cell_type": "code",
      "source": [
        "num_samples, height, width = X_test.shape\n",
        "X_flattened = X_test.reshape(num_samples, height * width)\n",
        "U, S, Vt = np.linalg.svd(X_flattened, full_matrices=False)\n",
        "def rank_k_approximation(U, S, Vt, num):\n",
        "    U = U[:,:num]\n",
        "    Vt = Vt[:num,:]\n",
        "    S = S[:num]\n",
        "    S = np.diag(S)\n",
        "    my_low_rank = np.dot(np.dot(U,S),Vt)\n",
        "    return my_low_rank\n",
        "\n",
        "rank_values = [2, 5, 10]\n",
        "rand_indices_kmeans = []\n",
        "rand_indices_kcenter = []\n",
        "for rank_k in rank_values:\n",
        "    X_k = rank_k_approximation(U, S,Vt, rank_k)\n",
        "    centers, center_labels = kmeans_init(X_k, y_test, 10)\n",
        "    final_centers, final_labels, cluster_assignments = Kmeans(centers, center_labels, X_k, y_test)\n",
        "    cluster_assignments = [center_labels[i] for i in cluster_assignments]\n",
        "    rand_indices_kmeans.append(rand_score(y_test, cluster_assignments))\n",
        "\n",
        "    final_centers = two_approx_k_center(X_k, y_test, k=10)\n",
        "    cluster_assignments = assign_clusters(X_k, y_test, final_centers)\n",
        "    rand_indices_kcenter.append(rand_score(y_test, cluster_assignments))\n",
        "\n",
        "for i, rank_k in enumerate(rank_values):\n",
        "    print(f\"Rank-k = {rank_k}:\")\n",
        "    print(f\"  K-Means Rand Index: {rand_indices_kmeans[i]:.4f}\")\n",
        "    print(f\"  K-Center Rand Index: {rand_indices_kcenter[i]:.4f}\")\n"
      ],
      "metadata": {
        "id": "yY9vjsuVTDDe",
        "colab": {
          "base_uri": "https://localhost:8080/"
        },
        "outputId": "27139536-cf44-4bbe-f46f-177362d0dc76"
      },
      "execution_count": null,
      "outputs": [
        {
          "output_type": "stream",
          "name": "stdout",
          "text": [
            "Rank-k = 2:\n",
            "  K-Means Rand Index: 0.7864\n",
            "  K-Center Rand Index: 0.5988\n",
            "Rank-k = 5:\n",
            "  K-Means Rand Index: 0.8039\n",
            "  K-Center Rand Index: 0.5966\n",
            "Rank-k = 10:\n",
            "  K-Means Rand Index: 0.8555\n",
            "  K-Center Rand Index: 0.7940\n"
          ]
        }
      ]
    },
    {
      "cell_type": "markdown",
      "source": [
        "***Question 5***  \n",
        "\n",
        "We have a population of **1 million** people, where **at least 1%** are coffee drinkers. We want to estimate this fraction using **random sampling** and determine error bounds with **99% probability**.  \n",
        "\n",
        "### **Algorithm for Estimating the Fraction of Coffee Drinkers**  \n",
        "\n",
        "1. **Defining the Random Sampling**  \n",
        "   - Let the total population be **$ N = 10^6 $**.  \n",
        "   - The true fraction of coffee drinkers is **at least $ p = 0.01 $**.  \n",
        "   - We take a random sample of **$ n $** individuals.  \n",
        "\n",
        "2. **Sample Random $n$ Individuals:**  \n",
        "   - Select **$ n $** individuals **uniformly at random** from the population.  \n",
        "   - Let **$ X_i $** be an indicator random variable where:  \n",
        "\n",
        "   $$\n",
        "   X_i =\n",
        "   \\begin{cases}\n",
        "   1, & \\text{if person } i \\text{ is a coffee drinker} \\\\\n",
        "   0, & \\text{otherwise}\n",
        "   \\end{cases}\n",
        "   $$  \n",
        "\n",
        "   - Define the **sample proportion** of coffee drinkers:  \n",
        "\n",
        "   $$\n",
        "   \\hat{p} = \\frac{1}{n} \\sum_{i=1}^{n} X_i\n",
        "   $$  \n",
        "\n",
        "   - The sample proportion $ \\hat{p} $ is an **unbiased estimator** of the true fraction $ p $ because its expected value equals $ p $:\n",
        "\n",
        "    $$\n",
        "    E[\\hat{p}] = E\\left[\\frac{1}{n} \\sum_{i=1}^{n} X_i \\right]\n",
        "    $$\n",
        "\n",
        "    Since expectation is **linear**, we can rewrite this as:\n",
        "\n",
        "    $$\n",
        "    E[\\hat{p}] = \\frac{1}{n} \\sum_{i=1}^{n} E[X_i]\n",
        "    $$\n",
        "\n",
        "    Each $ X_i $ is an **indicator random variable** that takes the value 1 with probability $ p $, so:\n",
        "\n",
        "    $$\n",
        "    E[X_i] = p\n",
        "    $$\n",
        "\n",
        "    Substituting this into the equation:\n",
        "\n",
        "    $$\n",
        "    E[\\hat{p}] = \\frac{1}{n} \\sum_{i=1}^{n} p = \\frac{n p}{n} = p\n",
        "    $$\n",
        "\n",
        "    Therefore, $ \\hat{p} $ is an **unbiased estimator** of the true fraction $ p $.\n",
        "  \n",
        "\n",
        "3. Therefore getting Error Bounds using Chernoff Bound on  $ \\hat{p} $  \n",
        "\n",
        "   - For any $ \\epsilon > 0 $, the probability that $ \\hat{p} $ deviates from $ p $ satisfies:  \n",
        "\n",
        "   $$\n",
        "   P(|\\hat{p} - p| \\geq \\epsilon p) \\leq 2 e^{-\\frac{n\\epsilon^2 p}{2}}\n",
        "   $$  \n",
        "\n",
        "   - This means that the probability of the estimated fraction $ \\hat{p} $ differing from the true fraction $ p $ by more than $ \\epsilon p $ decreases exponentially as $ n $ increases.\n",
        "   - In the expression $ \\epsilon $ corresponds to the relative error between p and $ \\hat{p} $ ( i.e. how much the estimated p over n samples deviate from the actual p)\n",
        "\n",
        "4. **Choosing $ n $ for 99% Probability:**  \n",
        "   - We set the probability of error to be at most **$ 1\\% $**, (i.e. 99% accuracy)  \n",
        "\n",
        "   $$\n",
        "   2 e^{-\\frac{n\\epsilon^2 p}{2}} \\leq 0.01\n",
        "   $$  \n",
        "\n",
        "   - Solving for \\( n \\):  \n",
        "\n",
        "   $$\n",
        "   e^{-\\frac{n\\epsilon^2 p}{2}} \\leq 0.005\n",
        "   $$  \n",
        "\n",
        "   - Taking the natural logarithm on both sides:  \n",
        "\n",
        "   $$\n",
        "   -\\frac{n\\epsilon^2 p}{2} \\leq \\ln(0.005)\n",
        "   $$  \n",
        "\n",
        "   - Using $ \\ln(0.005) \\approx -5.3 $, we get:  \n",
        "\n",
        "   $$\n",
        "   n \\geq \\frac{2 \\times 5.3}{\\epsilon^2 p}\n",
        "   $$  \n",
        "\n",
        "   - Since **$ p = 0.01 $**, we substitute:  \n",
        "\n",
        "   $$\n",
        "   n \\geq \\frac{2 \\times 5.3}{\\epsilon^2 \\times 0.01} = \\frac{10.6}{\\epsilon^2 \\times 0.01}\n",
        "   $$  \n",
        "\n",
        "   - For **$ \\epsilon = 0.1 $** (i.e., 10% relative error), we get:  \n",
        "\n",
        "   $$\n",
        "   n \\geq \\frac{10.6}{(0.1)^2 \\times 0.01} = \\frac{10.6}{10^{-4}} = 106,000\n",
        "   $$  \n",
        "\n",
        "   - For **$ \\epsilon = 0.05 $** (i.e., 5% relative error), we get:  \n",
        "\n",
        "   $$\n",
        "   n \\geq \\frac{10.6}{(0.05)^2 \\times 0.01} = \\frac{10.6}{2.5 \\times 10^{-5}} = 424,000\n",
        "   $$  \n",
        "\n",
        "### **Final Estimate and Error Bound**  \n",
        "\n",
        "- Using a sample of **106,000 people**, we can estimate the fraction $ \\hat{p} $ with a **10% relative error** with **99% probability**.  \n",
        "- Using a larger sample of **424,000 people**, we can estimate the fraction with a **5% relative error**.  \n",
        "- This implies that we don't need to survey of all the 1 million population, sampling **424,000 people** also give a good aprroximate with only 5 percent maximum relative error."
      ],
      "metadata": {
        "id": "iC7gyDUyAZ5b"
      }
    }
  ]
}